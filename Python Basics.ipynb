{
 "cells": [
  {
   "cell_type": "code",
   "execution_count": 3,
   "metadata": {},
   "outputs": [
    {
     "name": "stdout",
     "output_type": "stream",
     "text": [
      "Hello world\n"
     ]
    }
   ],
   "source": [
    "print(\"Hello world\")"
   ]
  },
  {
   "cell_type": "code",
   "execution_count": 6,
   "metadata": {},
   "outputs": [
    {
     "name": "stdout",
     "output_type": "stream",
     "text": [
      "['welcome', 'to', 'world', 'of', 'programming']\n",
      "['one:two:three']\n",
      "['one', 'two', 'three']\n",
      "['Ca', 'sBa', 'Sa', 'Fa', 'Or']\n"
     ]
    }
   ],
   "source": [
    "#split() function\n",
    "text1='welcome to world of programming'\n",
    "\n",
    "#splits at space\n",
    "print(text1.split())\n",
    "\n",
    "text2 = \"one:two:three\"\n",
    "print(text2.split(','))\n",
    "\n",
    "text2 = \"one,two,three\"\n",
    "print(text2.split(','))\n",
    "\n",
    "text3 = 'CatsBatSatFatOr'\n",
    "\n",
    "#splitting at t\n",
    "print(text3.split('t'))\n"
   ]
  },
  {
   "cell_type": "code",
   "execution_count": 13,
   "metadata": {},
   "outputs": [
    {
     "name": "stdout",
     "output_type": "stream",
     "text": [
      "['Welcome to world of programming']\n",
      "['Welcome', 'to', 'world', 'of', 'programming']\n",
      "['Welcome', 'to world of programming']\n",
      "['Welcome to world of programming']\n"
     ]
    }
   ],
   "source": [
    "word = 'Welcome to world of programming'\n",
    "\n",
    "#maxsplit:0\n",
    "print(word.split(' ',0))\n",
    "\n",
    "#maxsplit:4\n",
    "print(word.split(' ',4))\n",
    "\n",
    "#maxsplit:1\n",
    "print(word.split(' ',1))\n",
    "\n",
    "#sep=',' and maxsplit:1\n",
    "print(word.split(' , ',1))\n"
   ]
  },
  {
   "cell_type": "code",
   "execution_count": 14,
   "metadata": {},
   "outputs": [
    {
     "name": "stdout",
     "output_type": "stream",
     "text": [
      "['tic-tac', 'toe']\n"
     ]
    }
   ],
   "source": [
    "string=\"tic-tac-toe\"\n",
    "print(string.rsplit('-',1))"
   ]
  },
  {
   "cell_type": "code",
   "execution_count": 16,
   "metadata": {},
   "outputs": [
    {
     "name": "stdout",
     "output_type": "stream",
     "text": [
      "['Welcome, to', ' programming']\n",
      "['Welcome@to@programming', 'world']\n",
      "['Welcome@to@programming@world']\n"
     ]
    }
   ],
   "source": [
    "word='Welcome, to, programming'\n",
    "print(word.rsplit(',',1))\n",
    "\n",
    "word='Welcome@to@programming@world'\n",
    "print(word.rsplit('@',1))\n",
    "\n",
    "word='Welcome@to@programming@world'\n",
    "print(word.rsplit('@,',-1))"
   ]
  },
  {
   "cell_type": "code",
   "execution_count": 17,
   "metadata": {},
   "outputs": [
    {
     "name": "stdout",
     "output_type": "stream",
     "text": [
      "('Light ', 'attracts', ' bug')\n",
      "('space is ', 'yet', ' to be explored')\n",
      "('gold ', 'is', ' heavy')\n"
     ]
    }
   ],
   "source": [
    "string=\"Light attracts bug\"\n",
    "print(string.partition('attracts'))\n",
    "\n",
    "string='space is yet to be explored'\n",
    "print(string.partition('yet'))\n",
    "\n",
    "string='gold is heavy'\n",
    "print(string.partition('is'))"
   ]
  },
  {
   "cell_type": "code",
   "execution_count": 25,
   "metadata": {},
   "outputs": [
    {
     "name": "stdout",
     "output_type": "stream",
     "text": [
      "h-e-l-l-o\n",
      "AABBCCDD\n",
      "1-2-3-4\n",
      "1*2*3*4\n",
      "Petrol-*-Diesel-*-CNG\n"
     ]
    }
   ],
   "source": [
    "#joining string\n",
    "str='-'.join('hello')\n",
    "print(str)\n",
    "\n",
    "#joining list with empty seperator\n",
    "list1=['AA','BB','CC','DD']\n",
    "print(\"\".join(list1))\n",
    "\n",
    "#joining tuple\n",
    "t1=('1','2','3','4')\n",
    "print(\"-\".join(t1))\n",
    "\n",
    "#joining set\n",
    "list1={'1','2','3','4'}\n",
    "print(\"*\".join(t1))\n",
    "\n",
    "Feul_Type={\"Petrol\":1,\"Diesel\":2,\"CNG\":3}\n",
    "print(\"-*-\".join(Feul_Type))\n",
    "\n",
    "Feul_Type1={1:\"Petrol\",2:\"Diesel\",3:\"CNG\"}\n"
   ]
  },
  {
   "cell_type": "code",
   "execution_count": 28,
   "metadata": {},
   "outputs": [
    {
     "name": "stdout",
     "output_type": "stream",
     "text": [
      "5 is odd number\n",
      "4 is even number\n"
     ]
    }
   ],
   "source": [
    "def even_odd(num):\n",
    "\n",
    "    if num%2==0:\n",
    "        print(num,\"is even number\")\n",
    "    else:\n",
    "        print(num,\"is odd number\")\n",
    "even_odd(5)\n",
    "even_odd(4)                    "
   ]
  },
  {
   "cell_type": "code",
   "execution_count": 30,
   "metadata": {},
   "outputs": [
    {
     "data": {
      "text/plain": [
       "11"
      ]
     },
     "execution_count": 30,
     "metadata": {},
     "output_type": "execute_result"
    }
   ],
   "source": [
    "def add_func(num1,num2):\n",
    "    return num1+num2 \n",
    "add_func(5,6)"
   ]
  },
  {
   "cell_type": "code",
   "execution_count": 35,
   "metadata": {},
   "outputs": [
    {
     "data": {
      "text/plain": [
       "6"
      ]
     },
     "execution_count": 35,
     "metadata": {},
     "output_type": "execute_result"
    }
   ],
   "source": [
    "def add_func(num1,num2):\n",
    "    return num1*num2\n",
    "add_func(2,3)"
   ]
  },
  {
   "cell_type": "code",
   "execution_count": 37,
   "metadata": {},
   "outputs": [
    {
     "data": {
      "text/plain": [
       "0.6666666666666666"
      ]
     },
     "execution_count": 37,
     "metadata": {},
     "output_type": "execute_result"
    }
   ],
   "source": [
    "def multi_func(num1,num2):\n",
    "    return num1/num2\n",
    "multi_func(2,3)"
   ]
  },
  {
   "cell_type": "code",
   "execution_count": 39,
   "metadata": {},
   "outputs": [
    {
     "data": {
      "text/plain": [
       "-1"
      ]
     },
     "execution_count": 39,
     "metadata": {},
     "output_type": "execute_result"
    }
   ],
   "source": [
    "def div_func(num1,num2):\n",
    "    return num1-num2\n",
    "div_func(2,3)"
   ]
  },
  {
   "cell_type": "code",
   "execution_count": 43,
   "metadata": {},
   "outputs": [
    {
     "name": "stdout",
     "output_type": "stream",
     "text": [
      "The Factorial of 1 is: 1\n",
      "The Factorial of 2 is: 2\n",
      "The Factorial of 3 is: 6\n",
      "The Factorial of 4 is: 24\n"
     ]
    }
   ],
   "source": [
    "def fact(num):\n",
    "    result=1\n",
    "    while num>=1:\n",
    "        result=result*num\n",
    "        num=num-1\n",
    "    return result \n",
    "\n",
    "for i in  range(1,5):\n",
    "    print(\"The Factorial of\",i, \"is:\",fact(i))"
   ]
  },
  {
   "cell_type": "code",
   "execution_count": 45,
   "metadata": {},
   "outputs": [
    {
     "name": "stdout",
     "output_type": "stream",
     "text": [
      "The Sum is : 150\n",
      "The Substraction is : 50\n"
     ]
    }
   ],
   "source": [
    "def sum_sub(a,b):\n",
    "    add=a+b\n",
    "    sub=a-b\n",
    "    return add,sub\n",
    "x,y=sum_sub(100,50)\n",
    "print(\"The Sum is :\",x)\n",
    "print(\"The Substraction is :\",y)"
   ]
  },
  {
   "cell_type": "code",
   "execution_count": 51,
   "metadata": {},
   "outputs": [
    {
     "name": "stdout",
     "output_type": "stream",
     "text": [
      "subject is C and marks are 10\n"
     ]
    }
   ],
   "source": [
    "#example of positional arguement\n",
    "def marks(subject,marks):\n",
    "    '''show marks along with subject'''\n",
    "    print(\"subject is %s and marks are %d\" %(subject,marks))\n",
    "\n",
    "marks('C',10) #Functions Calling\n"
   ]
  },
  {
   "cell_type": "code",
   "execution_count": 61,
   "metadata": {},
   "outputs": [
    {
     "ename": "TypeError",
     "evalue": "%d format: a number is required, not str",
     "output_type": "error",
     "traceback": [
      "\u001b[0;31m---------------------------------------------------------------------------\u001b[0m",
      "\u001b[0;31mTypeError\u001b[0m                                 Traceback (most recent call last)",
      "Cell \u001b[0;32mIn[61], line 6\u001b[0m\n\u001b[1;32m      3\u001b[0m \u001b[38;5;250m    \u001b[39m\u001b[38;5;124;03m'''show marks along with subject'''\u001b[39;00m\n\u001b[1;32m      4\u001b[0m     \u001b[38;5;28mprint\u001b[39m(\u001b[38;5;124m\"\u001b[39m\u001b[38;5;124msubject is \u001b[39m\u001b[38;5;132;01m%s\u001b[39;00m\u001b[38;5;124m and marks are \u001b[39m\u001b[38;5;132;01m%d\u001b[39;00m\u001b[38;5;124m\"\u001b[39m \u001b[38;5;241m%\u001b[39m(subject,marks))\n\u001b[0;32m----> 6\u001b[0m \u001b[43mmarks\u001b[49m\u001b[43m(\u001b[49m\u001b[38;5;241;43m10\u001b[39;49m\u001b[43m,\u001b[49m\u001b[38;5;124;43m'\u001b[39;49m\u001b[38;5;124;43mC\u001b[39;49m\u001b[38;5;124;43m'\u001b[39;49m\u001b[43m)\u001b[49m \u001b[38;5;66;03m#Functions Calling\u001b[39;00m\n\u001b[1;32m      8\u001b[0m \u001b[38;5;66;03m#error hai ye kyuki ('c',10) hona chahiye n ki (10,'c')\u001b[39;00m\n",
      "Cell \u001b[0;32mIn[61], line 4\u001b[0m, in \u001b[0;36mmarks\u001b[0;34m(subject, marks)\u001b[0m\n\u001b[1;32m      2\u001b[0m \u001b[38;5;28;01mdef\u001b[39;00m \u001b[38;5;21mmarks\u001b[39m(subject,marks):\n\u001b[1;32m      3\u001b[0m \u001b[38;5;250m    \u001b[39m\u001b[38;5;124;03m'''show marks along with subject'''\u001b[39;00m\n\u001b[0;32m----> 4\u001b[0m     \u001b[38;5;28mprint\u001b[39m(\u001b[38;5;124;43m\"\u001b[39;49m\u001b[38;5;124;43msubject is \u001b[39;49m\u001b[38;5;132;43;01m%s\u001b[39;49;00m\u001b[38;5;124;43m and marks are \u001b[39;49m\u001b[38;5;132;43;01m%d\u001b[39;49;00m\u001b[38;5;124;43m\"\u001b[39;49m\u001b[43m \u001b[49m\u001b[38;5;241;43m%\u001b[39;49m\u001b[43m(\u001b[49m\u001b[43msubject\u001b[49m\u001b[43m,\u001b[49m\u001b[43mmarks\u001b[49m\u001b[43m)\u001b[49m)\n",
      "\u001b[0;31mTypeError\u001b[0m: %d format: a number is required, not str"
     ]
    }
   ],
   "source": [
    "#example of positional arguement\n",
    "def marks(subject,marks):\n",
    "    '''show marks along with subject'''\n",
    "    print(\"subject is %s and marks are %d\" %(subject,marks))\n",
    "\n",
    "marks(10,'C') #Functions Calling\n",
    "\n",
    "#error hai ye kyuki ('c',10) hona chahiye na ki (10,'c')"
   ]
  },
  {
   "cell_type": "code",
   "execution_count": 70,
   "metadata": {},
   "outputs": [
    {
     "name": "stdout",
     "output_type": "stream",
     "text": [
      "Hello Ravi Good Morning\n",
      "Hello Ravi Good Morning\n"
     ]
    }
   ],
   "source": [
    "#Example of keyword arguement \n",
    "\n",
    "#Function Calling\n",
    "greet(name=\"Ravi\", msg=\"Good Morning\")\n",
    "greet(msg=\"Good Morning\",name=\"Ravi\")"
   ]
  },
  {
   "cell_type": "code",
   "execution_count": 72,
   "metadata": {},
   "outputs": [
    {
     "name": "stdout",
     "output_type": "stream",
     "text": [
      "Hello sarita Good Day\n",
      "Hello Aradhya Good Day\n",
      "Hello Aradhya Happy new year\n",
      "Hello Ravi Good Morning\n",
      "Hello Ravi Good Morning\n"
     ]
    }
   ],
   "source": [
    "#Example of default arguement \n",
    "#function definition \n",
    "def greet(name=\"sarita\",msg=\"Good Day\"):\n",
    "    print(\"Hello\",name,msg)\n",
    "    \n",
    " #function calling\n",
    "greet()\n",
    "greet(\"Aradhya\")\n",
    "greet(\"Aradhya\",\"Happy new year\")\n",
    "\n",
    "greet(name=\"Ravi\",msg=\"Good Morning\")\n",
    "greet(msg=\"Good Morning\",name=\"Ravi\")"
   ]
  },
  {
   "cell_type": "code",
   "execution_count": 74,
   "metadata": {},
   "outputs": [
    {
     "name": "stdout",
     "output_type": "stream",
     "text": [
      "0\n",
      "10\n",
      "30\n",
      "60\n",
      "100\n"
     ]
    }
   ],
   "source": [
    "#Example of variable length arguements\n",
    "def add(*nums):\n",
    "    sum=0\n",
    "    for i in nums:\n",
    "        sum+=i\n",
    "    print(sum) \n",
    "add()                       #functions calling with zero arguement\n",
    "add(10)                     #functions calling with one arguement\n",
    "add(10,20)                  #functions calling with two arguement\n",
    "add(10,20,30)               #functions calling with three arguement\n",
    "add(10,20,30,40)            #functions calling with four arguement\n"
   ]
  },
  {
   "cell_type": "code",
   "execution_count": 75,
   "metadata": {},
   "outputs": [
    {
     "name": "stdout",
     "output_type": "stream",
     "text": [
      "10 \n",
      "10 20 \n",
      "10 20 30 \n"
     ]
    }
   ],
   "source": [
    "def func1(arg1,*var_arg):\n",
    "    print(arg1,end=\" \")\n",
    "    for i in var_arg:\n",
    "        print(i,end=\" \")\n",
    "    print()\n",
    "\n",
    "#func1()  TypeError: func1() missing 1 required positional arguement:'arg1'\n",
    "func1(10)\n",
    "func1(10,20)\n",
    "func1(10,20,30)\n",
    "        "
   ]
  }
 ],
 "metadata": {
  "kernelspec": {
   "display_name": "Python 3",
   "language": "python",
   "name": "python3"
  },
  "language_info": {
   "codemirror_mode": {
    "name": "ipython",
    "version": 3
   },
   "file_extension": ".py",
   "mimetype": "text/x-python",
   "name": "python",
   "nbconvert_exporter": "python",
   "pygments_lexer": "ipython3",
   "version": "3.9.6"
  }
 },
 "nbformat": 4,
 "nbformat_minor": 2
}
